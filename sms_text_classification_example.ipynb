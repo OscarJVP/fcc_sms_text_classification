{
  "cells": [
    {
      "cell_type": "code",
      "execution_count": null,
      "metadata": {
        "id": "8RZOuS9LWQvv",
        "colab": {
          "base_uri": "https://localhost:8080/"
        },
        "language_info": {
          "name": "python",
        },
        "outputId": "0b26ee50-1d71-4bd0-e405-3096063de1a5"
      },
      "outputs": [
        {
          "output_type": "stream",
          "name": "stdout",
          "text": [
            "Collecting tf-nightly\n",
            "  Downloading tf_nightly-2.15.0.dev20230824-cp310-cp310-manylinux_2_17_x86_64.manylinux2014_x86_64.whl (491.4 MB)\n",
            "\u001b[2K     \u001b[90m━━━━━━━━━━━━━━━━━━━━━━━━━━━━━━━━━━━━━━━\u001b[0m \u001b[32m491.4/491.4 MB\u001b[0m \u001b[31m2.4 MB/s\u001b[0m eta \u001b[36m0:00:00\u001b[0m\n",
            "\u001b[?25hRequirement already satisfied: absl-py>=1.0.0 in /usr/local/lib/python3.10/dist-packages (from tf-nightly) (1.4.0)\n",
            "Requirement already satisfied: astunparse>=1.6.0 in /usr/local/lib/python3.10/dist-packages (from tf-nightly) (1.6.3)\n",
            "Requirement already satisfied: flatbuffers>=23.5.26 in /usr/local/lib/python3.10/dist-packages (from tf-nightly) (23.5.26)\n",
            "Requirement already satisfied: gast!=0.5.0,!=0.5.1,!=0.5.2,>=0.2.1 in /usr/local/lib/python3.10/dist-packages (from tf-nightly) (0.4.0)\n",
            "Requirement already satisfied: google-pasta>=0.1.1 in /usr/local/lib/python3.10/dist-packages (from tf-nightly) (0.2.0)\n",
            "Requirement already satisfied: h5py>=2.9.0 in /usr/local/lib/python3.10/dist-packages (from tf-nightly) (3.9.0)\n",
            "Requirement already satisfied: libclang>=13.0.0 in /usr/local/lib/python3.10/dist-packages (from tf-nightly) (16.0.6)\n",
            "Requirement already satisfied: ml-dtypes>=0.2.0 in /usr/local/lib/python3.10/dist-packages (from tf-nightly) (0.2.0)\n",
            "Requirement already satisfied: numpy>=1.23.5 in /usr/local/lib/python3.10/dist-packages (from tf-nightly) (1.23.5)\n",
            "Requirement already satisfied: opt-einsum>=2.3.2 in /usr/local/lib/python3.10/dist-packages (from tf-nightly) (3.3.0)\n",
            "Requirement already satisfied: packaging in /usr/local/lib/python3.10/dist-packages (from tf-nightly) (23.1)\n",
            "Requirement already satisfied: protobuf!=4.21.0,!=4.21.1,!=4.21.2,!=4.21.3,!=4.21.4,!=4.21.5,<5.0.0dev,>=3.20.3 in /usr/local/lib/python3.10/dist-packages (from tf-nightly) (3.20.3)\n",
            "Requirement already satisfied: setuptools in /usr/local/lib/python3.10/dist-packages (from tf-nightly) (67.7.2)\n",
            "Requirement already satisfied: six>=1.12.0 in /usr/local/lib/python3.10/dist-packages (from tf-nightly) (1.16.0)\n",
            "Requirement already satisfied: termcolor>=1.1.0 in /usr/local/lib/python3.10/dist-packages (from tf-nightly) (2.3.0)\n",
            "Requirement already satisfied: typing-extensions>=3.6.6 in /usr/local/lib/python3.10/dist-packages (from tf-nightly) (4.7.1)\n",
            "Requirement already satisfied: wrapt<1.15,>=1.11.0 in /usr/local/lib/python3.10/dist-packages (from tf-nightly) (1.14.1)\n",
            "Requirement already satisfied: grpcio<2.0,>=1.24.3 in /usr/local/lib/python3.10/dist-packages (from tf-nightly) (1.57.0)\n",
            "Collecting tb-nightly~=2.15.0.a (from tf-nightly)\n",
            "  Downloading tb_nightly-2.15.0a20230824-py3-none-any.whl (5.5 MB)\n",
            "\u001b[2K     \u001b[90m━━━━━━━━━━━━━━━━━━━━━━━━━━━━━━━━━━━━━━━━\u001b[0m \u001b[32m5.5/5.5 MB\u001b[0m \u001b[31m29.4 MB/s\u001b[0m eta \u001b[36m0:00:00\u001b[0m\n",
            "\u001b[?25hCollecting tf-estimator-nightly~=2.14.0.dev (from tf-nightly)\n",
            "  Downloading tf_estimator_nightly-2.14.0.dev2023080308-py2.py3-none-any.whl (440 kB)\n",
            "\u001b[2K     \u001b[90m━━━━━━━━━━━━━━━━━━━━━━━━━━━━━━━━━━━━━━\u001b[0m \u001b[32m440.9/440.9 kB\u001b[0m \u001b[31m38.2 MB/s\u001b[0m eta \u001b[36m0:00:00\u001b[0m\n",
            "\u001b[?25hCollecting keras-nightly~=2.15.0.dev (from tf-nightly)\n",
            "  Downloading keras_nightly-2.15.0.dev2023082407-py3-none-any.whl (1.7 MB)\n",
            "\u001b[2K     \u001b[90m━━━━━━━━━━━━━━━━━━━━━━━━━━━━━━━━━━━━━━━━\u001b[0m \u001b[32m1.7/1.7 MB\u001b[0m \u001b[31m55.6 MB/s\u001b[0m eta \u001b[36m0:00:00\u001b[0m\n",
            "\u001b[?25hRequirement already satisfied: tensorflow-io-gcs-filesystem>=0.23.1 in /usr/local/lib/python3.10/dist-packages (from tf-nightly) (0.33.0)\n",
            "Requirement already satisfied: wheel<1.0,>=0.23.0 in /usr/local/lib/python3.10/dist-packages (from astunparse>=1.6.0->tf-nightly) (0.41.1)\n",
            "Requirement already satisfied: google-auth<3,>=1.6.3 in /usr/local/lib/python3.10/dist-packages (from tb-nightly~=2.15.0.a->tf-nightly) (2.17.3)\n",
            "Requirement already satisfied: google-auth-oauthlib<1.1,>=0.5 in /usr/local/lib/python3.10/dist-packages (from tb-nightly~=2.15.0.a->tf-nightly) (1.0.0)\n",
            "Requirement already satisfied: markdown>=2.6.8 in /usr/local/lib/python3.10/dist-packages (from tb-nightly~=2.15.0.a->tf-nightly) (3.4.4)\n",
            "Requirement already satisfied: requests<3,>=2.21.0 in /usr/local/lib/python3.10/dist-packages (from tb-nightly~=2.15.0.a->tf-nightly) (2.31.0)\n",
            "Requirement already satisfied: tensorboard-data-server<0.8.0,>=0.7.0 in /usr/local/lib/python3.10/dist-packages (from tb-nightly~=2.15.0.a->tf-nightly) (0.7.1)\n",
            "Requirement already satisfied: werkzeug>=1.0.1 in /usr/local/lib/python3.10/dist-packages (from tb-nightly~=2.15.0.a->tf-nightly) (2.3.7)\n",
            "Requirement already satisfied: cachetools<6.0,>=2.0.0 in /usr/local/lib/python3.10/dist-packages (from google-auth<3,>=1.6.3->tb-nightly~=2.15.0.a->tf-nightly) (5.3.1)\n",
            "Requirement already satisfied: pyasn1-modules>=0.2.1 in /usr/local/lib/python3.10/dist-packages (from google-auth<3,>=1.6.3->tb-nightly~=2.15.0.a->tf-nightly) (0.3.0)\n",
            "Requirement already satisfied: rsa<5,>=3.1.4 in /usr/local/lib/python3.10/dist-packages (from google-auth<3,>=1.6.3->tb-nightly~=2.15.0.a->tf-nightly) (4.9)\n",
            "Requirement already satisfied: requests-oauthlib>=0.7.0 in /usr/local/lib/python3.10/dist-packages (from google-auth-oauthlib<1.1,>=0.5->tb-nightly~=2.15.0.a->tf-nightly) (1.3.1)\n",
            "Requirement already satisfied: charset-normalizer<4,>=2 in /usr/local/lib/python3.10/dist-packages (from requests<3,>=2.21.0->tb-nightly~=2.15.0.a->tf-nightly) (3.2.0)\n",
            "Requirement already satisfied: idna<4,>=2.5 in /usr/local/lib/python3.10/dist-packages (from requests<3,>=2.21.0->tb-nightly~=2.15.0.a->tf-nightly) (3.4)\n",
            "Requirement already satisfied: urllib3<3,>=1.21.1 in /usr/local/lib/python3.10/dist-packages (from requests<3,>=2.21.0->tb-nightly~=2.15.0.a->tf-nightly) (2.0.4)\n",
            "Requirement already satisfied: certifi>=2017.4.17 in /usr/local/lib/python3.10/dist-packages (from requests<3,>=2.21.0->tb-nightly~=2.15.0.a->tf-nightly) (2023.7.22)\n",
            "Requirement already satisfied: MarkupSafe>=2.1.1 in /usr/local/lib/python3.10/dist-packages (from werkzeug>=1.0.1->tb-nightly~=2.15.0.a->tf-nightly) (2.1.3)\n",
            "Requirement already satisfied: pyasn1<0.6.0,>=0.4.6 in /usr/local/lib/python3.10/dist-packages (from pyasn1-modules>=0.2.1->google-auth<3,>=1.6.3->tb-nightly~=2.15.0.a->tf-nightly) (0.5.0)\n",
            "Requirement already satisfied: oauthlib>=3.0.0 in /usr/local/lib/python3.10/dist-packages (from requests-oauthlib>=0.7.0->google-auth-oauthlib<1.1,>=0.5->tb-nightly~=2.15.0.a->tf-nightly) (3.2.2)\n",
            "Installing collected packages: tf-estimator-nightly, keras-nightly, tb-nightly, tf-nightly\n",
            "Successfully installed keras-nightly-2.15.0.dev2023082407 tb-nightly-2.15.0a20230824 tf-estimator-nightly-2.14.0.dev2023080308 tf-nightly-2.15.0.dev20230824\n",
            "Requirement already satisfied: tensorflow-datasets in /usr/local/lib/python3.10/dist-packages (4.9.2)\n",
            "Requirement already satisfied: absl-py in /usr/local/lib/python3.10/dist-packages (from tensorflow-datasets) (1.4.0)\n",
            "Requirement already satisfied: array-record in /usr/local/lib/python3.10/dist-packages (from tensorflow-datasets) (0.4.1)\n",
            "Requirement already satisfied: click in /usr/local/lib/python3.10/dist-packages (from tensorflow-datasets) (8.1.7)\n",
            "Requirement already satisfied: dm-tree in /usr/local/lib/python3.10/dist-packages (from tensorflow-datasets) (0.1.8)\n",
            "Requirement already satisfied: etils[enp,epath]>=0.9.0 in /usr/local/lib/python3.10/dist-packages (from tensorflow-datasets) (1.4.1)\n",
            "Requirement already satisfied: numpy in /usr/local/lib/python3.10/dist-packages (from tensorflow-datasets) (1.23.5)\n",
            "Requirement already satisfied: promise in /usr/local/lib/python3.10/dist-packages (from tensorflow-datasets) (2.3)\n",
            "Requirement already satisfied: protobuf>=3.20 in /usr/local/lib/python3.10/dist-packages (from tensorflow-datasets) (3.20.3)\n",
            "Requirement already satisfied: psutil in /usr/local/lib/python3.10/dist-packages (from tensorflow-datasets) (5.9.5)\n",
            "Requirement already satisfied: requests>=2.19.0 in /usr/local/lib/python3.10/dist-packages (from tensorflow-datasets) (2.31.0)\n",
            "Requirement already satisfied: tensorflow-metadata in /usr/local/lib/python3.10/dist-packages (from tensorflow-datasets) (1.14.0)\n",
            "Requirement already satisfied: termcolor in /usr/local/lib/python3.10/dist-packages (from tensorflow-datasets) (2.3.0)\n",
            "Requirement already satisfied: toml in /usr/local/lib/python3.10/dist-packages (from tensorflow-datasets) (0.10.2)\n",
            "Requirement already satisfied: tqdm in /usr/local/lib/python3.10/dist-packages (from tensorflow-datasets) (4.66.1)\n",
            "Requirement already satisfied: wrapt in /usr/local/lib/python3.10/dist-packages (from tensorflow-datasets) (1.14.1)\n",
            "Requirement already satisfied: importlib_resources in /usr/local/lib/python3.10/dist-packages (from etils[enp,epath]>=0.9.0->tensorflow-datasets) (6.0.1)\n",
            "Requirement already satisfied: typing_extensions in /usr/local/lib/python3.10/dist-packages (from etils[enp,epath]>=0.9.0->tensorflow-datasets) (4.7.1)\n",
            "Requirement already satisfied: zipp in /usr/local/lib/python3.10/dist-packages (from etils[enp,epath]>=0.9.0->tensorflow-datasets) (3.16.2)\n",
            "Requirement already satisfied: charset-normalizer<4,>=2 in /usr/local/lib/python3.10/dist-packages (from requests>=2.19.0->tensorflow-datasets) (3.2.0)\n",
            "Requirement already satisfied: idna<4,>=2.5 in /usr/local/lib/python3.10/dist-packages (from requests>=2.19.0->tensorflow-datasets) (3.4)\n",
            "Requirement already satisfied: urllib3<3,>=1.21.1 in /usr/local/lib/python3.10/dist-packages (from requests>=2.19.0->tensorflow-datasets) (2.0.4)\n",
            "Requirement already satisfied: certifi>=2017.4.17 in /usr/local/lib/python3.10/dist-packages (from requests>=2.19.0->tensorflow-datasets) (2023.7.22)\n",
            "Requirement already satisfied: six in /usr/local/lib/python3.10/dist-packages (from promise->tensorflow-datasets) (1.16.0)\n",
            "Requirement already satisfied: googleapis-common-protos<2,>=1.52.0 in /usr/local/lib/python3.10/dist-packages (from tensorflow-metadata->tensorflow-datasets) (1.60.0)\n",
            "2.15.0-dev20230824\n"
          ]
        }
      ],
      "source": [
        "# import libraries\n",
        "try:\n",
        "  # %tensorflow_version only exists in Colab.\n",
        "  !pip install tf-nightly\n",
        "except Exception:\n",
        "  pass\n",
        "import tensorflow as tf\n",
        "import pandas as pd\n",
        "from tensorflow import keras\n",
        "!pip install tensorflow-datasets\n",
        "import tensorflow_datasets as tfds\n",
        "import numpy as np\n",
        "import matplotlib.pyplot as plt\n",
        "\n",
        "print(tf.__version__)"
      ]
    },
    {
      "cell_type": "code",
      "execution_count": null,
      "metadata": {
        "id": "lMHwYXHXCar3",
        "colab": {
          "base_uri": "https://localhost:8080/"
        },
        "outputId": "8c94b85e-48b5-42bc-b380-106fa14d99f1"
      },
      "outputs": [
        {
          "output_type": "stream",
          "name": "stdout",
          "text": [
            "--2023-08-25 06:30:50--  https://cdn.freecodecamp.org/project-data/sms/train-data.tsv\n",
            "Resolving cdn.freecodecamp.org (cdn.freecodecamp.org)... 104.26.2.33, 104.26.3.33, 172.67.70.149, ...\n",
            "Connecting to cdn.freecodecamp.org (cdn.freecodecamp.org)|104.26.2.33|:443... connected.\n",
            "HTTP request sent, awaiting response... 200 OK\n",
            "Length: 358233 (350K) [text/tab-separated-values]\n",
            "Saving to: ‘train-data.tsv’\n",
            "\n",
            "train-data.tsv      100%[===================>] 349.84K  --.-KB/s    in 0.02s   \n",
            "\n",
            "2023-08-25 06:30:50 (13.8 MB/s) - ‘train-data.tsv’ saved [358233/358233]\n",
            "\n",
            "--2023-08-25 06:30:50--  https://cdn.freecodecamp.org/project-data/sms/valid-data.tsv\n",
            "Resolving cdn.freecodecamp.org (cdn.freecodecamp.org)... 104.26.2.33, 104.26.3.33, 172.67.70.149, ...\n",
            "Connecting to cdn.freecodecamp.org (cdn.freecodecamp.org)|104.26.2.33|:443... connected.\n",
            "HTTP request sent, awaiting response... 200 OK\n",
            "Length: 118774 (116K) [text/tab-separated-values]\n",
            "Saving to: ‘valid-data.tsv’\n",
            "\n",
            "valid-data.tsv      100%[===================>] 115.99K  --.-KB/s    in 0.009s  \n",
            "\n",
            "2023-08-25 06:30:50 (12.0 MB/s) - ‘valid-data.tsv’ saved [118774/118774]\n",
            "\n"
          ]
        }
      ],
      "source": [
        "# get data files\n",
        "!wget https://cdn.freecodecamp.org/project-data/sms/train-data.tsv\n",
        "!wget https://cdn.freecodecamp.org/project-data/sms/valid-data.tsv\n",
        "\n",
        "train_file_path = \"train-data.tsv\"\n",
        "test_file_path = \"valid-data.tsv\""
      ]
    },
    {
      "cell_type": "code",
      "execution_count": null,
      "metadata": {
        "id": "g_h508FEClxO",
        "colab": {
          "base_uri": "https://localhost:8080/",
          "height": 423
        },
        "outputId": "2f6247d6-3fad-4b18-ad5d-3531ba37a9ec"
      },
      "outputs": [
        {
          "output_type": "execute_result",
          "data": {
            "text/plain": [
              "     msg_type                                            message\n",
              "0         ham  i am in hospital da. . i will return home in e...\n",
              "1         ham         not much, just some textin'. how bout you?\n",
              "2         ham  i probably won't eat at all today. i think i'm...\n",
              "3         ham  don‘t give a flying monkeys wot they think and...\n",
              "4         ham                                who are you seeing?\n",
              "...       ...                                                ...\n",
              "1387      ham  true dear..i sat to pray evening and felt so.s...\n",
              "1388      ham               what will we do in the shower, baby?\n",
              "1389      ham  where are you ? what are you doing ? are yuou ...\n",
              "1390     spam  ur cash-balance is currently 500 pounds - to m...\n",
              "1391     spam  not heard from u4 a while. call 4 rude chat pr...\n",
              "\n",
              "[1392 rows x 2 columns]"
            ],
            "text/html": [
              "\n",
              "  <div id=\"df-615bdfc4-880e-4ced-aca2-b55d9a8b1dd0\" class=\"colab-df-container\">\n",
              "    <div>\n",
              "<style scoped>\n",
              "    .dataframe tbody tr th:only-of-type {\n",
              "        vertical-align: middle;\n",
              "    }\n",
              "\n",
              "    .dataframe tbody tr th {\n",
              "        vertical-align: top;\n",
              "    }\n",
              "\n",
              "    .dataframe thead th {\n",
              "        text-align: right;\n",
              "    }\n",
              "</style>\n",
              "<table border=\"1\" class=\"dataframe\">\n",
              "  <thead>\n",
              "    <tr style=\"text-align: right;\">\n",
              "      <th></th>\n",
              "      <th>msg_type</th>\n",
              "      <th>message</th>\n",
              "    </tr>\n",
              "  </thead>\n",
              "  <tbody>\n",
              "    <tr>\n",
              "      <th>0</th>\n",
              "      <td>ham</td>\n",
              "      <td>i am in hospital da. . i will return home in e...</td>\n",
              "    </tr>\n",
              "    <tr>\n",
              "      <th>1</th>\n",
              "      <td>ham</td>\n",
              "      <td>not much, just some textin'. how bout you?</td>\n",
              "    </tr>\n",
              "    <tr>\n",
              "      <th>2</th>\n",
              "      <td>ham</td>\n",
              "      <td>i probably won't eat at all today. i think i'm...</td>\n",
              "    </tr>\n",
              "    <tr>\n",
              "      <th>3</th>\n",
              "      <td>ham</td>\n",
              "      <td>don‘t give a flying monkeys wot they think and...</td>\n",
              "    </tr>\n",
              "    <tr>\n",
              "      <th>4</th>\n",
              "      <td>ham</td>\n",
              "      <td>who are you seeing?</td>\n",
              "    </tr>\n",
              "    <tr>\n",
              "      <th>...</th>\n",
              "      <td>...</td>\n",
              "      <td>...</td>\n",
              "    </tr>\n",
              "    <tr>\n",
              "      <th>1387</th>\n",
              "      <td>ham</td>\n",
              "      <td>true dear..i sat to pray evening and felt so.s...</td>\n",
              "    </tr>\n",
              "    <tr>\n",
              "      <th>1388</th>\n",
              "      <td>ham</td>\n",
              "      <td>what will we do in the shower, baby?</td>\n",
              "    </tr>\n",
              "    <tr>\n",
              "      <th>1389</th>\n",
              "      <td>ham</td>\n",
              "      <td>where are you ? what are you doing ? are yuou ...</td>\n",
              "    </tr>\n",
              "    <tr>\n",
              "      <th>1390</th>\n",
              "      <td>spam</td>\n",
              "      <td>ur cash-balance is currently 500 pounds - to m...</td>\n",
              "    </tr>\n",
              "    <tr>\n",
              "      <th>1391</th>\n",
              "      <td>spam</td>\n",
              "      <td>not heard from u4 a while. call 4 rude chat pr...</td>\n",
              "    </tr>\n",
              "  </tbody>\n",
              "</table>\n",
              "<p>1392 rows × 2 columns</p>\n",
              "</div>\n",
              "    <div class=\"colab-df-buttons\">\n",
              "\n",
              "  <div class=\"colab-df-container\">\n",
              "    <button class=\"colab-df-convert\" onclick=\"convertToInteractive('df-615bdfc4-880e-4ced-aca2-b55d9a8b1dd0')\"\n",
              "            title=\"Convert this dataframe to an interactive table.\"\n",
              "            style=\"display:none;\">\n",
              "\n",
              "  <svg xmlns=\"http://www.w3.org/2000/svg\" height=\"24px\" viewBox=\"0 -960 960 960\">\n",
              "    <path d=\"M120-120v-720h720v720H120Zm60-500h600v-160H180v160Zm220 220h160v-160H400v160Zm0 220h160v-160H400v160ZM180-400h160v-160H180v160Zm440 0h160v-160H620v160ZM180-180h160v-160H180v160Zm440 0h160v-160H620v160Z\"/>\n",
              "  </svg>\n",
              "    </button>\n",
              "\n",
              "  <style>\n",
              "    .colab-df-container {\n",
              "      display:flex;\n",
              "      gap: 12px;\n",
              "    }\n",
              "\n",
              "    .colab-df-convert {\n",
              "      background-color: #E8F0FE;\n",
              "      border: none;\n",
              "      border-radius: 50%;\n",
              "      cursor: pointer;\n",
              "      display: none;\n",
              "      fill: #1967D2;\n",
              "      height: 32px;\n",
              "      padding: 0 0 0 0;\n",
              "      width: 32px;\n",
              "    }\n",
              "\n",
              "    .colab-df-convert:hover {\n",
              "      background-color: #E2EBFA;\n",
              "      box-shadow: 0px 1px 2px rgba(60, 64, 67, 0.3), 0px 1px 3px 1px rgba(60, 64, 67, 0.15);\n",
              "      fill: #174EA6;\n",
              "    }\n",
              "\n",
              "    .colab-df-buttons div {\n",
              "      margin-bottom: 4px;\n",
              "    }\n",
              "\n",
              "    [theme=dark] .colab-df-convert {\n",
              "      background-color: #3B4455;\n",
              "      fill: #D2E3FC;\n",
              "    }\n",
              "\n",
              "    [theme=dark] .colab-df-convert:hover {\n",
              "      background-color: #434B5C;\n",
              "      box-shadow: 0px 1px 3px 1px rgba(0, 0, 0, 0.15);\n",
              "      filter: drop-shadow(0px 1px 2px rgba(0, 0, 0, 0.3));\n",
              "      fill: #FFFFFF;\n",
              "    }\n",
              "  </style>\n",
              "\n",
              "    <script>\n",
              "      const buttonEl =\n",
              "        document.querySelector('#df-615bdfc4-880e-4ced-aca2-b55d9a8b1dd0 button.colab-df-convert');\n",
              "      buttonEl.style.display =\n",
              "        google.colab.kernel.accessAllowed ? 'block' : 'none';\n",
              "\n",
              "      async function convertToInteractive(key) {\n",
              "        const element = document.querySelector('#df-615bdfc4-880e-4ced-aca2-b55d9a8b1dd0');\n",
              "        const dataTable =\n",
              "          await google.colab.kernel.invokeFunction('convertToInteractive',\n",
              "                                                    [key], {});\n",
              "        if (!dataTable) return;\n",
              "\n",
              "        const docLinkHtml = 'Like what you see? Visit the ' +\n",
              "          '<a target=\"_blank\" href=https://colab.research.google.com/notebooks/data_table.ipynb>data table notebook</a>'\n",
              "          + ' to learn more about interactive tables.';\n",
              "        element.innerHTML = '';\n",
              "        dataTable['output_type'] = 'display_data';\n",
              "        await google.colab.output.renderOutput(dataTable, element);\n",
              "        const docLink = document.createElement('div');\n",
              "        docLink.innerHTML = docLinkHtml;\n",
              "        element.appendChild(docLink);\n",
              "      }\n",
              "    </script>\n",
              "  </div>\n",
              "\n",
              "\n",
              "<div id=\"df-8c72faa9-cb5b-4374-96db-8e44bb3ccf83\">\n",
              "  <button class=\"colab-df-quickchart\" onclick=\"quickchart('df-8c72faa9-cb5b-4374-96db-8e44bb3ccf83')\"\n",
              "            title=\"Suggest charts.\"\n",
              "            style=\"display:none;\">\n",
              "\n",
              "<svg xmlns=\"http://www.w3.org/2000/svg\" height=\"24px\"viewBox=\"0 0 24 24\"\n",
              "     width=\"24px\">\n",
              "    <g>\n",
              "        <path d=\"M19 3H5c-1.1 0-2 .9-2 2v14c0 1.1.9 2 2 2h14c1.1 0 2-.9 2-2V5c0-1.1-.9-2-2-2zM9 17H7v-7h2v7zm4 0h-2V7h2v10zm4 0h-2v-4h2v4z\"/>\n",
              "    </g>\n",
              "</svg>\n",
              "  </button>\n",
              "\n",
              "<style>\n",
              "  .colab-df-quickchart {\n",
              "    background-color: #E8F0FE;\n",
              "    border: none;\n",
              "    border-radius: 50%;\n",
              "    cursor: pointer;\n",
              "    display: none;\n",
              "    fill: #1967D2;\n",
              "    height: 32px;\n",
              "    padding: 0 0 0 0;\n",
              "    width: 32px;\n",
              "  }\n",
              "\n",
              "  .colab-df-quickchart:hover {\n",
              "    background-color: #E2EBFA;\n",
              "    box-shadow: 0px 1px 2px rgba(60, 64, 67, 0.3), 0px 1px 3px 1px rgba(60, 64, 67, 0.15);\n",
              "    fill: #174EA6;\n",
              "  }\n",
              "\n",
              "  [theme=dark] .colab-df-quickchart {\n",
              "    background-color: #3B4455;\n",
              "    fill: #D2E3FC;\n",
              "  }\n",
              "\n",
              "  [theme=dark] .colab-df-quickchart:hover {\n",
              "    background-color: #434B5C;\n",
              "    box-shadow: 0px 1px 3px 1px rgba(0, 0, 0, 0.15);\n",
              "    filter: drop-shadow(0px 1px 2px rgba(0, 0, 0, 0.3));\n",
              "    fill: #FFFFFF;\n",
              "  }\n",
              "</style>\n",
              "\n",
              "  <script>\n",
              "    async function quickchart(key) {\n",
              "      const charts = await google.colab.kernel.invokeFunction(\n",
              "          'suggestCharts', [key], {});\n",
              "    }\n",
              "    (() => {\n",
              "      let quickchartButtonEl =\n",
              "        document.querySelector('#df-8c72faa9-cb5b-4374-96db-8e44bb3ccf83 button');\n",
              "      quickchartButtonEl.style.display =\n",
              "        google.colab.kernel.accessAllowed ? 'block' : 'none';\n",
              "    })();\n",
              "  </script>\n",
              "</div>\n",
              "    </div>\n",
              "  </div>\n"
            ]
          },
          "metadata": {},
          "execution_count": 3
        }
      ],
      "source": [
        "train_df = pd.read_csv(train_file_path,sep=\"\\t\", names=['msg_type', 'message'], header=None)\n",
        "train_df.dropna()\n",
        "test_df = pd.read_csv(test_file_path,sep=\"\\t\", names=['msg_type', 'message'], header=None)\n",
        "test_df.dropna()"
      ]
    },
    {
      "cell_type": "code",
      "source": [
        "train_df.head()"
      ],
      "metadata": {
        "colab": {
          "base_uri": "https://localhost:8080/",
          "height": 206
        },
        "id": "9LOybUvMf6-k",
        "outputId": "95b0f3c0-8de7-4e33-d632-e9ec68c9b338"
      },
      "execution_count": null,
      "outputs": [
        {
          "output_type": "execute_result",
          "data": {
            "text/plain": [
              "  msg_type                                            message\n",
              "0      ham  ahhhh...just woken up!had a bad dream about u ...\n",
              "1      ham                           you can never do nothing\n",
              "2      ham  now u sound like manky scouse boy steve,like! ...\n",
              "3      ham  mum say we wan to go then go... then she can s...\n",
              "4      ham  never y lei... i v lazy... got wat? dat day ü ..."
            ],
            "text/html": [
              "\n",
              "  <div id=\"df-3c6c2b15-0cfe-4d07-a4c6-60d7a854de23\" class=\"colab-df-container\">\n",
              "    <div>\n",
              "<style scoped>\n",
              "    .dataframe tbody tr th:only-of-type {\n",
              "        vertical-align: middle;\n",
              "    }\n",
              "\n",
              "    .dataframe tbody tr th {\n",
              "        vertical-align: top;\n",
              "    }\n",
              "\n",
              "    .dataframe thead th {\n",
              "        text-align: right;\n",
              "    }\n",
              "</style>\n",
              "<table border=\"1\" class=\"dataframe\">\n",
              "  <thead>\n",
              "    <tr style=\"text-align: right;\">\n",
              "      <th></th>\n",
              "      <th>msg_type</th>\n",
              "      <th>message</th>\n",
              "    </tr>\n",
              "  </thead>\n",
              "  <tbody>\n",
              "    <tr>\n",
              "      <th>0</th>\n",
              "      <td>ham</td>\n",
              "      <td>ahhhh...just woken up!had a bad dream about u ...</td>\n",
              "    </tr>\n",
              "    <tr>\n",
              "      <th>1</th>\n",
              "      <td>ham</td>\n",
              "      <td>you can never do nothing</td>\n",
              "    </tr>\n",
              "    <tr>\n",
              "      <th>2</th>\n",
              "      <td>ham</td>\n",
              "      <td>now u sound like manky scouse boy steve,like! ...</td>\n",
              "    </tr>\n",
              "    <tr>\n",
              "      <th>3</th>\n",
              "      <td>ham</td>\n",
              "      <td>mum say we wan to go then go... then she can s...</td>\n",
              "    </tr>\n",
              "    <tr>\n",
              "      <th>4</th>\n",
              "      <td>ham</td>\n",
              "      <td>never y lei... i v lazy... got wat? dat day ü ...</td>\n",
              "    </tr>\n",
              "  </tbody>\n",
              "</table>\n",
              "</div>\n",
              "    <div class=\"colab-df-buttons\">\n",
              "\n",
              "  <div class=\"colab-df-container\">\n",
              "    <button class=\"colab-df-convert\" onclick=\"convertToInteractive('df-3c6c2b15-0cfe-4d07-a4c6-60d7a854de23')\"\n",
              "            title=\"Convert this dataframe to an interactive table.\"\n",
              "            style=\"display:none;\">\n",
              "\n",
              "  <svg xmlns=\"http://www.w3.org/2000/svg\" height=\"24px\" viewBox=\"0 -960 960 960\">\n",
              "    <path d=\"M120-120v-720h720v720H120Zm60-500h600v-160H180v160Zm220 220h160v-160H400v160Zm0 220h160v-160H400v160ZM180-400h160v-160H180v160Zm440 0h160v-160H620v160ZM180-180h160v-160H180v160Zm440 0h160v-160H620v160Z\"/>\n",
              "  </svg>\n",
              "    </button>\n",
              "\n",
              "  <style>\n",
              "    .colab-df-container {\n",
              "      display:flex;\n",
              "      gap: 12px;\n",
              "    }\n",
              "\n",
              "    .colab-df-convert {\n",
              "      background-color: #E8F0FE;\n",
              "      border: none;\n",
              "      border-radius: 50%;\n",
              "      cursor: pointer;\n",
              "      display: none;\n",
              "      fill: #1967D2;\n",
              "      height: 32px;\n",
              "      padding: 0 0 0 0;\n",
              "      width: 32px;\n",
              "    }\n",
              "\n",
              "    .colab-df-convert:hover {\n",
              "      background-color: #E2EBFA;\n",
              "      box-shadow: 0px 1px 2px rgba(60, 64, 67, 0.3), 0px 1px 3px 1px rgba(60, 64, 67, 0.15);\n",
              "      fill: #174EA6;\n",
              "    }\n",
              "\n",
              "    .colab-df-buttons div {\n",
              "      margin-bottom: 4px;\n",
              "    }\n",
              "\n",
              "    [theme=dark] .colab-df-convert {\n",
              "      background-color: #3B4455;\n",
              "      fill: #D2E3FC;\n",
              "    }\n",
              "\n",
              "    [theme=dark] .colab-df-convert:hover {\n",
              "      background-color: #434B5C;\n",
              "      box-shadow: 0px 1px 3px 1px rgba(0, 0, 0, 0.15);\n",
              "      filter: drop-shadow(0px 1px 2px rgba(0, 0, 0, 0.3));\n",
              "      fill: #FFFFFF;\n",
              "    }\n",
              "  </style>\n",
              "\n",
              "    <script>\n",
              "      const buttonEl =\n",
              "        document.querySelector('#df-3c6c2b15-0cfe-4d07-a4c6-60d7a854de23 button.colab-df-convert');\n",
              "      buttonEl.style.display =\n",
              "        google.colab.kernel.accessAllowed ? 'block' : 'none';\n",
              "\n",
              "      async function convertToInteractive(key) {\n",
              "        const element = document.querySelector('#df-3c6c2b15-0cfe-4d07-a4c6-60d7a854de23');\n",
              "        const dataTable =\n",
              "          await google.colab.kernel.invokeFunction('convertToInteractive',\n",
              "                                                    [key], {});\n",
              "        if (!dataTable) return;\n",
              "\n",
              "        const docLinkHtml = 'Like what you see? Visit the ' +\n",
              "          '<a target=\"_blank\" href=https://colab.research.google.com/notebooks/data_table.ipynb>data table notebook</a>'\n",
              "          + ' to learn more about interactive tables.';\n",
              "        element.innerHTML = '';\n",
              "        dataTable['output_type'] = 'display_data';\n",
              "        await google.colab.output.renderOutput(dataTable, element);\n",
              "        const docLink = document.createElement('div');\n",
              "        docLink.innerHTML = docLinkHtml;\n",
              "        element.appendChild(docLink);\n",
              "      }\n",
              "    </script>\n",
              "  </div>\n",
              "\n",
              "\n",
              "<div id=\"df-335f08b6-ec2c-4e5f-9245-f723f1ef093b\">\n",
              "  <button class=\"colab-df-quickchart\" onclick=\"quickchart('df-335f08b6-ec2c-4e5f-9245-f723f1ef093b')\"\n",
              "            title=\"Suggest charts.\"\n",
              "            style=\"display:none;\">\n",
              "\n",
              "<svg xmlns=\"http://www.w3.org/2000/svg\" height=\"24px\"viewBox=\"0 0 24 24\"\n",
              "     width=\"24px\">\n",
              "    <g>\n",
              "        <path d=\"M19 3H5c-1.1 0-2 .9-2 2v14c0 1.1.9 2 2 2h14c1.1 0 2-.9 2-2V5c0-1.1-.9-2-2-2zM9 17H7v-7h2v7zm4 0h-2V7h2v10zm4 0h-2v-4h2v4z\"/>\n",
              "    </g>\n",
              "</svg>\n",
              "  </button>\n",
              "\n",
              "<style>\n",
              "  .colab-df-quickchart {\n",
              "    background-color: #E8F0FE;\n",
              "    border: none;\n",
              "    border-radius: 50%;\n",
              "    cursor: pointer;\n",
              "    display: none;\n",
              "    fill: #1967D2;\n",
              "    height: 32px;\n",
              "    padding: 0 0 0 0;\n",
              "    width: 32px;\n",
              "  }\n",
              "\n",
              "  .colab-df-quickchart:hover {\n",
              "    background-color: #E2EBFA;\n",
              "    box-shadow: 0px 1px 2px rgba(60, 64, 67, 0.3), 0px 1px 3px 1px rgba(60, 64, 67, 0.15);\n",
              "    fill: #174EA6;\n",
              "  }\n",
              "\n",
              "  [theme=dark] .colab-df-quickchart {\n",
              "    background-color: #3B4455;\n",
              "    fill: #D2E3FC;\n",
              "  }\n",
              "\n",
              "  [theme=dark] .colab-df-quickchart:hover {\n",
              "    background-color: #434B5C;\n",
              "    box-shadow: 0px 1px 3px 1px rgba(0, 0, 0, 0.15);\n",
              "    filter: drop-shadow(0px 1px 2px rgba(0, 0, 0, 0.3));\n",
              "    fill: #FFFFFF;\n",
              "  }\n",
              "</style>\n",
              "\n",
              "  <script>\n",
              "    async function quickchart(key) {\n",
              "      const charts = await google.colab.kernel.invokeFunction(\n",
              "          'suggestCharts', [key], {});\n",
              "    }\n",
              "    (() => {\n",
              "      let quickchartButtonEl =\n",
              "        document.querySelector('#df-335f08b6-ec2c-4e5f-9245-f723f1ef093b button');\n",
              "      quickchartButtonEl.style.display =\n",
              "        google.colab.kernel.accessAllowed ? 'block' : 'none';\n",
              "    })();\n",
              "  </script>\n",
              "</div>\n",
              "    </div>\n",
              "  </div>\n"
            ]
          },
          "metadata": {},
          "execution_count": 4
        }
      ]
    },
    {
      "cell_type": "code",
      "execution_count": null,
      "metadata": {
        "id": "zOMKywn4zReN",
        "colab": {
          "base_uri": "https://localhost:8080/",
          "height": 206
        },
        "outputId": "d6a9c3ef-b6f3-443d-9375-d29a9679ad99"
      },
      "outputs": [
        {
          "output_type": "execute_result",
          "data": {
            "text/plain": [
              "  msg_type                                            message\n",
              "0      ham  i am in hospital da. . i will return home in e...\n",
              "1      ham         not much, just some textin'. how bout you?\n",
              "2      ham  i probably won't eat at all today. i think i'm...\n",
              "3      ham  don‘t give a flying monkeys wot they think and...\n",
              "4      ham                                who are you seeing?"
            ],
            "text/html": [
              "\n",
              "  <div id=\"df-c94af576-474c-4b7c-b6b6-386752fbf937\" class=\"colab-df-container\">\n",
              "    <div>\n",
              "<style scoped>\n",
              "    .dataframe tbody tr th:only-of-type {\n",
              "        vertical-align: middle;\n",
              "    }\n",
              "\n",
              "    .dataframe tbody tr th {\n",
              "        vertical-align: top;\n",
              "    }\n",
              "\n",
              "    .dataframe thead th {\n",
              "        text-align: right;\n",
              "    }\n",
              "</style>\n",
              "<table border=\"1\" class=\"dataframe\">\n",
              "  <thead>\n",
              "    <tr style=\"text-align: right;\">\n",
              "      <th></th>\n",
              "      <th>msg_type</th>\n",
              "      <th>message</th>\n",
              "    </tr>\n",
              "  </thead>\n",
              "  <tbody>\n",
              "    <tr>\n",
              "      <th>0</th>\n",
              "      <td>ham</td>\n",
              "      <td>i am in hospital da. . i will return home in e...</td>\n",
              "    </tr>\n",
              "    <tr>\n",
              "      <th>1</th>\n",
              "      <td>ham</td>\n",
              "      <td>not much, just some textin'. how bout you?</td>\n",
              "    </tr>\n",
              "    <tr>\n",
              "      <th>2</th>\n",
              "      <td>ham</td>\n",
              "      <td>i probably won't eat at all today. i think i'm...</td>\n",
              "    </tr>\n",
              "    <tr>\n",
              "      <th>3</th>\n",
              "      <td>ham</td>\n",
              "      <td>don‘t give a flying monkeys wot they think and...</td>\n",
              "    </tr>\n",
              "    <tr>\n",
              "      <th>4</th>\n",
              "      <td>ham</td>\n",
              "      <td>who are you seeing?</td>\n",
              "    </tr>\n",
              "  </tbody>\n",
              "</table>\n",
              "</div>\n",
              "    <div class=\"colab-df-buttons\">\n",
              "\n",
              "  <div class=\"colab-df-container\">\n",
              "    <button class=\"colab-df-convert\" onclick=\"convertToInteractive('df-c94af576-474c-4b7c-b6b6-386752fbf937')\"\n",
              "            title=\"Convert this dataframe to an interactive table.\"\n",
              "            style=\"display:none;\">\n",
              "\n",
              "  <svg xmlns=\"http://www.w3.org/2000/svg\" height=\"24px\" viewBox=\"0 -960 960 960\">\n",
              "    <path d=\"M120-120v-720h720v720H120Zm60-500h600v-160H180v160Zm220 220h160v-160H400v160Zm0 220h160v-160H400v160ZM180-400h160v-160H180v160Zm440 0h160v-160H620v160ZM180-180h160v-160H180v160Zm440 0h160v-160H620v160Z\"/>\n",
              "  </svg>\n",
              "    </button>\n",
              "\n",
              "  <style>\n",
              "    .colab-df-container {\n",
              "      display:flex;\n",
              "      gap: 12px;\n",
              "    }\n",
              "\n",
              "    .colab-df-convert {\n",
              "      background-color: #E8F0FE;\n",
              "      border: none;\n",
              "      border-radius: 50%;\n",
              "      cursor: pointer;\n",
              "      display: none;\n",
              "      fill: #1967D2;\n",
              "      height: 32px;\n",
              "      padding: 0 0 0 0;\n",
              "      width: 32px;\n",
              "    }\n",
              "\n",
              "    .colab-df-convert:hover {\n",
              "      background-color: #E2EBFA;\n",
              "      box-shadow: 0px 1px 2px rgba(60, 64, 67, 0.3), 0px 1px 3px 1px rgba(60, 64, 67, 0.15);\n",
              "      fill: #174EA6;\n",
              "    }\n",
              "\n",
              "    .colab-df-buttons div {\n",
              "      margin-bottom: 4px;\n",
              "    }\n",
              "\n",
              "    [theme=dark] .colab-df-convert {\n",
              "      background-color: #3B4455;\n",
              "      fill: #D2E3FC;\n",
              "    }\n",
              "\n",
              "    [theme=dark] .colab-df-convert:hover {\n",
              "      background-color: #434B5C;\n",
              "      box-shadow: 0px 1px 3px 1px rgba(0, 0, 0, 0.15);\n",
              "      filter: drop-shadow(0px 1px 2px rgba(0, 0, 0, 0.3));\n",
              "      fill: #FFFFFF;\n",
              "    }\n",
              "  </style>\n",
              "\n",
              "    <script>\n",
              "      const buttonEl =\n",
              "        document.querySelector('#df-c94af576-474c-4b7c-b6b6-386752fbf937 button.colab-df-convert');\n",
              "      buttonEl.style.display =\n",
              "        google.colab.kernel.accessAllowed ? 'block' : 'none';\n",
              "\n",
              "      async function convertToInteractive(key) {\n",
              "        const element = document.querySelector('#df-c94af576-474c-4b7c-b6b6-386752fbf937');\n",
              "        const dataTable =\n",
              "          await google.colab.kernel.invokeFunction('convertToInteractive',\n",
              "                                                    [key], {});\n",
              "        if (!dataTable) return;\n",
              "\n",
              "        const docLinkHtml = 'Like what you see? Visit the ' +\n",
              "          '<a target=\"_blank\" href=https://colab.research.google.com/notebooks/data_table.ipynb>data table notebook</a>'\n",
              "          + ' to learn more about interactive tables.';\n",
              "        element.innerHTML = '';\n",
              "        dataTable['output_type'] = 'display_data';\n",
              "        await google.colab.output.renderOutput(dataTable, element);\n",
              "        const docLink = document.createElement('div');\n",
              "        docLink.innerHTML = docLinkHtml;\n",
              "        element.appendChild(docLink);\n",
              "      }\n",
              "    </script>\n",
              "  </div>\n",
              "\n",
              "\n",
              "<div id=\"df-3c76bf2b-a87d-4dc4-9d7d-19e48f99e956\">\n",
              "  <button class=\"colab-df-quickchart\" onclick=\"quickchart('df-3c76bf2b-a87d-4dc4-9d7d-19e48f99e956')\"\n",
              "            title=\"Suggest charts.\"\n",
              "            style=\"display:none;\">\n",
              "\n",
              "<svg xmlns=\"http://www.w3.org/2000/svg\" height=\"24px\"viewBox=\"0 0 24 24\"\n",
              "     width=\"24px\">\n",
              "    <g>\n",
              "        <path d=\"M19 3H5c-1.1 0-2 .9-2 2v14c0 1.1.9 2 2 2h14c1.1 0 2-.9 2-2V5c0-1.1-.9-2-2-2zM9 17H7v-7h2v7zm4 0h-2V7h2v10zm4 0h-2v-4h2v4z\"/>\n",
              "    </g>\n",
              "</svg>\n",
              "  </button>\n",
              "\n",
              "<style>\n",
              "  .colab-df-quickchart {\n",
              "    background-color: #E8F0FE;\n",
              "    border: none;\n",
              "    border-radius: 50%;\n",
              "    cursor: pointer;\n",
              "    display: none;\n",
              "    fill: #1967D2;\n",
              "    height: 32px;\n",
              "    padding: 0 0 0 0;\n",
              "    width: 32px;\n",
              "  }\n",
              "\n",
              "  .colab-df-quickchart:hover {\n",
              "    background-color: #E2EBFA;\n",
              "    box-shadow: 0px 1px 2px rgba(60, 64, 67, 0.3), 0px 1px 3px 1px rgba(60, 64, 67, 0.15);\n",
              "    fill: #174EA6;\n",
              "  }\n",
              "\n",
              "  [theme=dark] .colab-df-quickchart {\n",
              "    background-color: #3B4455;\n",
              "    fill: #D2E3FC;\n",
              "  }\n",
              "\n",
              "  [theme=dark] .colab-df-quickchart:hover {\n",
              "    background-color: #434B5C;\n",
              "    box-shadow: 0px 1px 3px 1px rgba(0, 0, 0, 0.15);\n",
              "    filter: drop-shadow(0px 1px 2px rgba(0, 0, 0, 0.3));\n",
              "    fill: #FFFFFF;\n",
              "  }\n",
              "</style>\n",
              "\n",
              "  <script>\n",
              "    async function quickchart(key) {\n",
              "      const charts = await google.colab.kernel.invokeFunction(\n",
              "          'suggestCharts', [key], {});\n",
              "    }\n",
              "    (() => {\n",
              "      let quickchartButtonEl =\n",
              "        document.querySelector('#df-3c76bf2b-a87d-4dc4-9d7d-19e48f99e956 button');\n",
              "      quickchartButtonEl.style.display =\n",
              "        google.colab.kernel.accessAllowed ? 'block' : 'none';\n",
              "    })();\n",
              "  </script>\n",
              "</div>\n",
              "    </div>\n",
              "  </div>\n"
            ]
          },
          "metadata": {},
          "execution_count": 5
        }
      ],
      "source": [
        "test_df.head()"
      ]
    },
    {
      "cell_type": "code",
      "source": [
        "train_df.info()"
      ],
      "metadata": {
        "colab": {
          "base_uri": "https://localhost:8080/"
        },
        "id": "AQfDqvhznEZK",
        "outputId": "4fa11909-101a-43f3-abd8-8c7acdee83dc"
      },
      "execution_count": null,
      "outputs": [
        {
          "output_type": "stream",
          "name": "stdout",
          "text": [
            "<class 'pandas.core.frame.DataFrame'>\n",
            "RangeIndex: 4179 entries, 0 to 4178\n",
            "Data columns (total 2 columns):\n",
            " #   Column    Non-Null Count  Dtype \n",
            "---  ------    --------------  ----- \n",
            " 0   msg_type  4179 non-null   object\n",
            " 1   message   4179 non-null   object\n",
            "dtypes: object(2)\n",
            "memory usage: 65.4+ KB\n"
          ]
        }
      ]
    },
    {
      "cell_type": "code",
      "source": [
        "train_df[train_df.isnull().values]"
      ],
      "metadata": {
        "colab": {
          "base_uri": "https://localhost:8080/",
          "height": 89
        },
        "id": "9ZdVhFssnfPe",
        "outputId": "cb786b08-c2fe-4ae5-dd57-cca73959f495"
      },
      "execution_count": null,
      "outputs": [
        {
          "output_type": "execute_result",
          "data": {
            "text/plain": [
              "Empty DataFrame\n",
              "Columns: [msg_type, message]\n",
              "Index: []"
            ],
            "text/html": [
              "\n",
              "  <div id=\"df-6ff36b50-b889-443b-9a6a-0509e5d05852\" class=\"colab-df-container\">\n",
              "    <div>\n",
              "<style scoped>\n",
              "    .dataframe tbody tr th:only-of-type {\n",
              "        vertical-align: middle;\n",
              "    }\n",
              "\n",
              "    .dataframe tbody tr th {\n",
              "        vertical-align: top;\n",
              "    }\n",
              "\n",
              "    .dataframe thead th {\n",
              "        text-align: right;\n",
              "    }\n",
              "</style>\n",
              "<table border=\"1\" class=\"dataframe\">\n",
              "  <thead>\n",
              "    <tr style=\"text-align: right;\">\n",
              "      <th></th>\n",
              "      <th>msg_type</th>\n",
              "      <th>message</th>\n",
              "    </tr>\n",
              "  </thead>\n",
              "  <tbody>\n",
              "  </tbody>\n",
              "</table>\n",
              "</div>\n",
              "    <div class=\"colab-df-buttons\">\n",
              "\n",
              "  <div class=\"colab-df-container\">\n",
              "    <button class=\"colab-df-convert\" onclick=\"convertToInteractive('df-6ff36b50-b889-443b-9a6a-0509e5d05852')\"\n",
              "            title=\"Convert this dataframe to an interactive table.\"\n",
              "            style=\"display:none;\">\n",
              "\n",
              "  <svg xmlns=\"http://www.w3.org/2000/svg\" height=\"24px\" viewBox=\"0 -960 960 960\">\n",
              "    <path d=\"M120-120v-720h720v720H120Zm60-500h600v-160H180v160Zm220 220h160v-160H400v160Zm0 220h160v-160H400v160ZM180-400h160v-160H180v160Zm440 0h160v-160H620v160ZM180-180h160v-160H180v160Zm440 0h160v-160H620v160Z\"/>\n",
              "  </svg>\n",
              "    </button>\n",
              "\n",
              "  <style>\n",
              "    .colab-df-container {\n",
              "      display:flex;\n",
              "      gap: 12px;\n",
              "    }\n",
              "\n",
              "    .colab-df-convert {\n",
              "      background-color: #E8F0FE;\n",
              "      border: none;\n",
              "      border-radius: 50%;\n",
              "      cursor: pointer;\n",
              "      display: none;\n",
              "      fill: #1967D2;\n",
              "      height: 32px;\n",
              "      padding: 0 0 0 0;\n",
              "      width: 32px;\n",
              "    }\n",
              "\n",
              "    .colab-df-convert:hover {\n",
              "      background-color: #E2EBFA;\n",
              "      box-shadow: 0px 1px 2px rgba(60, 64, 67, 0.3), 0px 1px 3px 1px rgba(60, 64, 67, 0.15);\n",
              "      fill: #174EA6;\n",
              "    }\n",
              "\n",
              "    .colab-df-buttons div {\n",
              "      margin-bottom: 4px;\n",
              "    }\n",
              "\n",
              "    [theme=dark] .colab-df-convert {\n",
              "      background-color: #3B4455;\n",
              "      fill: #D2E3FC;\n",
              "    }\n",
              "\n",
              "    [theme=dark] .colab-df-convert:hover {\n",
              "      background-color: #434B5C;\n",
              "      box-shadow: 0px 1px 3px 1px rgba(0, 0, 0, 0.15);\n",
              "      filter: drop-shadow(0px 1px 2px rgba(0, 0, 0, 0.3));\n",
              "      fill: #FFFFFF;\n",
              "    }\n",
              "  </style>\n",
              "\n",
              "    <script>\n",
              "      const buttonEl =\n",
              "        document.querySelector('#df-6ff36b50-b889-443b-9a6a-0509e5d05852 button.colab-df-convert');\n",
              "      buttonEl.style.display =\n",
              "        google.colab.kernel.accessAllowed ? 'block' : 'none';\n",
              "\n",
              "      async function convertToInteractive(key) {\n",
              "        const element = document.querySelector('#df-6ff36b50-b889-443b-9a6a-0509e5d05852');\n",
              "        const dataTable =\n",
              "          await google.colab.kernel.invokeFunction('convertToInteractive',\n",
              "                                                    [key], {});\n",
              "        if (!dataTable) return;\n",
              "\n",
              "        const docLinkHtml = 'Like what you see? Visit the ' +\n",
              "          '<a target=\"_blank\" href=https://colab.research.google.com/notebooks/data_table.ipynb>data table notebook</a>'\n",
              "          + ' to learn more about interactive tables.';\n",
              "        element.innerHTML = '';\n",
              "        dataTable['output_type'] = 'display_data';\n",
              "        await google.colab.output.renderOutput(dataTable, element);\n",
              "        const docLink = document.createElement('div');\n",
              "        docLink.innerHTML = docLinkHtml;\n",
              "        element.appendChild(docLink);\n",
              "      }\n",
              "    </script>\n",
              "  </div>\n",
              "\n",
              "\n",
              "<div id=\"df-2f3a7ff2-77f5-4c4e-ac11-c573dad5449b\">\n",
              "  <button class=\"colab-df-quickchart\" onclick=\"quickchart('df-2f3a7ff2-77f5-4c4e-ac11-c573dad5449b')\"\n",
              "            title=\"Suggest charts.\"\n",
              "            style=\"display:none;\">\n",
              "\n",
              "<svg xmlns=\"http://www.w3.org/2000/svg\" height=\"24px\"viewBox=\"0 0 24 24\"\n",
              "     width=\"24px\">\n",
              "    <g>\n",
              "        <path d=\"M19 3H5c-1.1 0-2 .9-2 2v14c0 1.1.9 2 2 2h14c1.1 0 2-.9 2-2V5c0-1.1-.9-2-2-2zM9 17H7v-7h2v7zm4 0h-2V7h2v10zm4 0h-2v-4h2v4z\"/>\n",
              "    </g>\n",
              "</svg>\n",
              "  </button>\n",
              "\n",
              "<style>\n",
              "  .colab-df-quickchart {\n",
              "    background-color: #E8F0FE;\n",
              "    border: none;\n",
              "    border-radius: 50%;\n",
              "    cursor: pointer;\n",
              "    display: none;\n",
              "    fill: #1967D2;\n",
              "    height: 32px;\n",
              "    padding: 0 0 0 0;\n",
              "    width: 32px;\n",
              "  }\n",
              "\n",
              "  .colab-df-quickchart:hover {\n",
              "    background-color: #E2EBFA;\n",
              "    box-shadow: 0px 1px 2px rgba(60, 64, 67, 0.3), 0px 1px 3px 1px rgba(60, 64, 67, 0.15);\n",
              "    fill: #174EA6;\n",
              "  }\n",
              "\n",
              "  [theme=dark] .colab-df-quickchart {\n",
              "    background-color: #3B4455;\n",
              "    fill: #D2E3FC;\n",
              "  }\n",
              "\n",
              "  [theme=dark] .colab-df-quickchart:hover {\n",
              "    background-color: #434B5C;\n",
              "    box-shadow: 0px 1px 3px 1px rgba(0, 0, 0, 0.15);\n",
              "    filter: drop-shadow(0px 1px 2px rgba(0, 0, 0, 0.3));\n",
              "    fill: #FFFFFF;\n",
              "  }\n",
              "</style>\n",
              "\n",
              "  <script>\n",
              "    async function quickchart(key) {\n",
              "      const charts = await google.colab.kernel.invokeFunction(\n",
              "          'suggestCharts', [key], {});\n",
              "    }\n",
              "    (() => {\n",
              "      let quickchartButtonEl =\n",
              "        document.querySelector('#df-2f3a7ff2-77f5-4c4e-ac11-c573dad5449b button');\n",
              "      quickchartButtonEl.style.display =\n",
              "        google.colab.kernel.accessAllowed ? 'block' : 'none';\n",
              "    })();\n",
              "  </script>\n",
              "</div>\n",
              "    </div>\n",
              "  </div>\n"
            ]
          },
          "metadata": {},
          "execution_count": 7
        }
      ]
    },
    {
      "cell_type": "code",
      "source": [
        "train_df[train_df.duplicated()].shape"
      ],
      "metadata": {
        "colab": {
          "base_uri": "https://localhost:8080/"
        },
        "id": "-JOUjXDynim4",
        "outputId": "3ff9c7c2-8928-40ae-9a02-6dfcf3a6b0fc"
      },
      "execution_count": null,
      "outputs": [
        {
          "output_type": "execute_result",
          "data": {
            "text/plain": [
              "(244, 2)"
            ]
          },
          "metadata": {},
          "execution_count": 8
        }
      ]
    },
    {
      "cell_type": "code",
      "source": [
        "train_df.drop_duplicates(inplace=True)\n",
        "train_df.info()"
      ],
      "metadata": {
        "colab": {
          "base_uri": "https://localhost:8080/"
        },
        "id": "Mc-Z6xH5nt3S",
        "outputId": "be79f59e-8025-4485-999d-725559fb58ea"
      },
      "execution_count": null,
      "outputs": [
        {
          "output_type": "stream",
          "name": "stdout",
          "text": [
            "<class 'pandas.core.frame.DataFrame'>\n",
            "Int64Index: 3935 entries, 0 to 4178\n",
            "Data columns (total 2 columns):\n",
            " #   Column    Non-Null Count  Dtype \n",
            "---  ------    --------------  ----- \n",
            " 0   msg_type  3935 non-null   object\n",
            " 1   message   3935 non-null   object\n",
            "dtypes: object(2)\n",
            "memory usage: 92.2+ KB\n"
          ]
        }
      ]
    },
    {
      "cell_type": "code",
      "source": [
        "train_df['msg_type'] = pd.factorize(train_df['msg_type'])[0]\n",
        "test_df['msg_type'] = pd.factorize(test_df['msg_type'])[0]\n",
        "train_df.head()"
      ],
      "metadata": {
        "colab": {
          "base_uri": "https://localhost:8080/",
          "height": 206
        },
        "id": "7idImEOStGb5",
        "outputId": "a5f50815-ffa6-4b34-f944-cfcb5933fe96"
      },
      "execution_count": null,
      "outputs": [
        {
          "output_type": "execute_result",
          "data": {
            "text/plain": [
              "   msg_type                                            message\n",
              "0         0  ahhhh...just woken up!had a bad dream about u ...\n",
              "1         0                           you can never do nothing\n",
              "2         0  now u sound like manky scouse boy steve,like! ...\n",
              "3         0  mum say we wan to go then go... then she can s...\n",
              "4         0  never y lei... i v lazy... got wat? dat day ü ..."
            ],
            "text/html": [
              "\n",
              "  <div id=\"df-4464a700-e0c1-4bb8-b6e2-905fe7638382\" class=\"colab-df-container\">\n",
              "    <div>\n",
              "<style scoped>\n",
              "    .dataframe tbody tr th:only-of-type {\n",
              "        vertical-align: middle;\n",
              "    }\n",
              "\n",
              "    .dataframe tbody tr th {\n",
              "        vertical-align: top;\n",
              "    }\n",
              "\n",
              "    .dataframe thead th {\n",
              "        text-align: right;\n",
              "    }\n",
              "</style>\n",
              "<table border=\"1\" class=\"dataframe\">\n",
              "  <thead>\n",
              "    <tr style=\"text-align: right;\">\n",
              "      <th></th>\n",
              "      <th>msg_type</th>\n",
              "      <th>message</th>\n",
              "    </tr>\n",
              "  </thead>\n",
              "  <tbody>\n",
              "    <tr>\n",
              "      <th>0</th>\n",
              "      <td>0</td>\n",
              "      <td>ahhhh...just woken up!had a bad dream about u ...</td>\n",
              "    </tr>\n",
              "    <tr>\n",
              "      <th>1</th>\n",
              "      <td>0</td>\n",
              "      <td>you can never do nothing</td>\n",
              "    </tr>\n",
              "    <tr>\n",
              "      <th>2</th>\n",
              "      <td>0</td>\n",
              "      <td>now u sound like manky scouse boy steve,like! ...</td>\n",
              "    </tr>\n",
              "    <tr>\n",
              "      <th>3</th>\n",
              "      <td>0</td>\n",
              "      <td>mum say we wan to go then go... then she can s...</td>\n",
              "    </tr>\n",
              "    <tr>\n",
              "      <th>4</th>\n",
              "      <td>0</td>\n",
              "      <td>never y lei... i v lazy... got wat? dat day ü ...</td>\n",
              "    </tr>\n",
              "  </tbody>\n",
              "</table>\n",
              "</div>\n",
              "    <div class=\"colab-df-buttons\">\n",
              "\n",
              "  <div class=\"colab-df-container\">\n",
              "    <button class=\"colab-df-convert\" onclick=\"convertToInteractive('df-4464a700-e0c1-4bb8-b6e2-905fe7638382')\"\n",
              "            title=\"Convert this dataframe to an interactive table.\"\n",
              "            style=\"display:none;\">\n",
              "\n",
              "  <svg xmlns=\"http://www.w3.org/2000/svg\" height=\"24px\" viewBox=\"0 -960 960 960\">\n",
              "    <path d=\"M120-120v-720h720v720H120Zm60-500h600v-160H180v160Zm220 220h160v-160H400v160Zm0 220h160v-160H400v160ZM180-400h160v-160H180v160Zm440 0h160v-160H620v160ZM180-180h160v-160H180v160Zm440 0h160v-160H620v160Z\"/>\n",
              "  </svg>\n",
              "    </button>\n",
              "\n",
              "  <style>\n",
              "    .colab-df-container {\n",
              "      display:flex;\n",
              "      gap: 12px;\n",
              "    }\n",
              "\n",
              "    .colab-df-convert {\n",
              "      background-color: #E8F0FE;\n",
              "      border: none;\n",
              "      border-radius: 50%;\n",
              "      cursor: pointer;\n",
              "      display: none;\n",
              "      fill: #1967D2;\n",
              "      height: 32px;\n",
              "      padding: 0 0 0 0;\n",
              "      width: 32px;\n",
              "    }\n",
              "\n",
              "    .colab-df-convert:hover {\n",
              "      background-color: #E2EBFA;\n",
              "      box-shadow: 0px 1px 2px rgba(60, 64, 67, 0.3), 0px 1px 3px 1px rgba(60, 64, 67, 0.15);\n",
              "      fill: #174EA6;\n",
              "    }\n",
              "\n",
              "    .colab-df-buttons div {\n",
              "      margin-bottom: 4px;\n",
              "    }\n",
              "\n",
              "    [theme=dark] .colab-df-convert {\n",
              "      background-color: #3B4455;\n",
              "      fill: #D2E3FC;\n",
              "    }\n",
              "\n",
              "    [theme=dark] .colab-df-convert:hover {\n",
              "      background-color: #434B5C;\n",
              "      box-shadow: 0px 1px 3px 1px rgba(0, 0, 0, 0.15);\n",
              "      filter: drop-shadow(0px 1px 2px rgba(0, 0, 0, 0.3));\n",
              "      fill: #FFFFFF;\n",
              "    }\n",
              "  </style>\n",
              "\n",
              "    <script>\n",
              "      const buttonEl =\n",
              "        document.querySelector('#df-4464a700-e0c1-4bb8-b6e2-905fe7638382 button.colab-df-convert');\n",
              "      buttonEl.style.display =\n",
              "        google.colab.kernel.accessAllowed ? 'block' : 'none';\n",
              "\n",
              "      async function convertToInteractive(key) {\n",
              "        const element = document.querySelector('#df-4464a700-e0c1-4bb8-b6e2-905fe7638382');\n",
              "        const dataTable =\n",
              "          await google.colab.kernel.invokeFunction('convertToInteractive',\n",
              "                                                    [key], {});\n",
              "        if (!dataTable) return;\n",
              "\n",
              "        const docLinkHtml = 'Like what you see? Visit the ' +\n",
              "          '<a target=\"_blank\" href=https://colab.research.google.com/notebooks/data_table.ipynb>data table notebook</a>'\n",
              "          + ' to learn more about interactive tables.';\n",
              "        element.innerHTML = '';\n",
              "        dataTable['output_type'] = 'display_data';\n",
              "        await google.colab.output.renderOutput(dataTable, element);\n",
              "        const docLink = document.createElement('div');\n",
              "        docLink.innerHTML = docLinkHtml;\n",
              "        element.appendChild(docLink);\n",
              "      }\n",
              "    </script>\n",
              "  </div>\n",
              "\n",
              "\n",
              "<div id=\"df-d698fbb4-91d6-46de-a7cb-66467dba4647\">\n",
              "  <button class=\"colab-df-quickchart\" onclick=\"quickchart('df-d698fbb4-91d6-46de-a7cb-66467dba4647')\"\n",
              "            title=\"Suggest charts.\"\n",
              "            style=\"display:none;\">\n",
              "\n",
              "<svg xmlns=\"http://www.w3.org/2000/svg\" height=\"24px\"viewBox=\"0 0 24 24\"\n",
              "     width=\"24px\">\n",
              "    <g>\n",
              "        <path d=\"M19 3H5c-1.1 0-2 .9-2 2v14c0 1.1.9 2 2 2h14c1.1 0 2-.9 2-2V5c0-1.1-.9-2-2-2zM9 17H7v-7h2v7zm4 0h-2V7h2v10zm4 0h-2v-4h2v4z\"/>\n",
              "    </g>\n",
              "</svg>\n",
              "  </button>\n",
              "\n",
              "<style>\n",
              "  .colab-df-quickchart {\n",
              "    background-color: #E8F0FE;\n",
              "    border: none;\n",
              "    border-radius: 50%;\n",
              "    cursor: pointer;\n",
              "    display: none;\n",
              "    fill: #1967D2;\n",
              "    height: 32px;\n",
              "    padding: 0 0 0 0;\n",
              "    width: 32px;\n",
              "  }\n",
              "\n",
              "  .colab-df-quickchart:hover {\n",
              "    background-color: #E2EBFA;\n",
              "    box-shadow: 0px 1px 2px rgba(60, 64, 67, 0.3), 0px 1px 3px 1px rgba(60, 64, 67, 0.15);\n",
              "    fill: #174EA6;\n",
              "  }\n",
              "\n",
              "  [theme=dark] .colab-df-quickchart {\n",
              "    background-color: #3B4455;\n",
              "    fill: #D2E3FC;\n",
              "  }\n",
              "\n",
              "  [theme=dark] .colab-df-quickchart:hover {\n",
              "    background-color: #434B5C;\n",
              "    box-shadow: 0px 1px 3px 1px rgba(0, 0, 0, 0.15);\n",
              "    filter: drop-shadow(0px 1px 2px rgba(0, 0, 0, 0.3));\n",
              "    fill: #FFFFFF;\n",
              "  }\n",
              "</style>\n",
              "\n",
              "  <script>\n",
              "    async function quickchart(key) {\n",
              "      const charts = await google.colab.kernel.invokeFunction(\n",
              "          'suggestCharts', [key], {});\n",
              "    }\n",
              "    (() => {\n",
              "      let quickchartButtonEl =\n",
              "        document.querySelector('#df-d698fbb4-91d6-46de-a7cb-66467dba4647 button');\n",
              "      quickchartButtonEl.style.display =\n",
              "        google.colab.kernel.accessAllowed ? 'block' : 'none';\n",
              "    })();\n",
              "  </script>\n",
              "</div>\n",
              "    </div>\n",
              "  </div>\n"
            ]
          },
          "metadata": {},
          "execution_count": 10
        }
      ]
    },
    {
      "cell_type": "code",
      "source": [
        "# Not only pop works, we need a numpy array\n",
        "train_labels = train_df['msg_type'].to_numpy()\n",
        "train_dataset = tf.data.Dataset.from_tensor_slices(\n",
        "    (train_df['message'].to_numpy(), train_labels)\n",
        ")"
      ],
      "metadata": {
        "id": "B9GdetsquM8Z"
      },
      "execution_count": null,
      "outputs": []
    },
    {
      "cell_type": "code",
      "source": [
        "for example, label in train_dataset.take(1):\n",
        "  print('text: ', example.numpy())\n",
        "  print('label: ', label.numpy())"
      ],
      "metadata": {
        "colab": {
          "base_uri": "https://localhost:8080/"
        },
        "id": "UYq2F9xF1vfg",
        "outputId": "eca1e6cc-6ec9-4e6b-e18a-414063a8d812"
      },
      "execution_count": null,
      "outputs": [
        {
          "output_type": "stream",
          "name": "stdout",
          "text": [
            "text:  b'ahhhh...just woken up!had a bad dream about u tho,so i dont like u right now :) i didnt know anything about comedy night but i guess im up for it.'\n",
            "label:  0\n"
          ]
        }
      ]
    },
    {
      "cell_type": "code",
      "source": [
        "# Not only pop works, we need a numpy array\n",
        "test_labels = test_df['msg_type'].to_numpy()\n",
        "test_dataset = tf.data.Dataset.from_tensor_slices(\n",
        "    (test_df['message'].to_numpy(), test_labels)\n",
        ")"
      ],
      "metadata": {
        "id": "pL7DsHVTx-Hz"
      },
      "execution_count": null,
      "outputs": []
    },
    {
      "cell_type": "code",
      "source": [
        "for example, label in test_dataset.take(1):\n",
        "  print('text: ', example.numpy())\n",
        "  print('label: ', label.numpy())"
      ],
      "metadata": {
        "colab": {
          "base_uri": "https://localhost:8080/"
        },
        "id": "-qGFG4Fw1vvg",
        "outputId": "dbed2cee-3d0a-49c7-8296-7f940274dbdb"
      },
      "execution_count": null,
      "outputs": [
        {
          "output_type": "stream",
          "name": "stdout",
          "text": [
            "text:  b'i am in hospital da. . i will return home in evening'\n",
            "label:  0\n"
          ]
        }
      ]
    },
    {
      "cell_type": "code",
      "source": [
        "test_dataset.element_spec"
      ],
      "metadata": {
        "colab": {
          "base_uri": "https://localhost:8080/"
        },
        "id": "Fna4xEsgKTw3",
        "outputId": "a2c71720-32f1-45ac-c154-910ed95c35fd"
      },
      "execution_count": null,
      "outputs": [
        {
          "output_type": "execute_result",
          "data": {
            "text/plain": [
              "(TensorSpec(shape=(), dtype=tf.string, name=None),\n",
              " TensorSpec(shape=(), dtype=tf.int64, name=None))"
            ]
          },
          "metadata": {},
          "execution_count": 15
        }
      ]
    },
    {
      "cell_type": "code",
      "source": [
        "BUFFER_SIZE = 4000\n",
        "BATCH_SIZE = 16\n",
        "train_dataset = train_dataset.shuffle(BUFFER_SIZE).batch(BATCH_SIZE).prefetch(tf.data.AUTOTUNE)\n",
        "test_dataset = test_dataset.batch(BATCH_SIZE).prefetch(tf.data.AUTOTUNE)"
      ],
      "metadata": {
        "id": "Tu-jaq5MyOOd"
      },
      "execution_count": null,
      "outputs": []
    },
    {
      "cell_type": "code",
      "source": [
        "VOCAB_SIZE = 1000\n",
        "encoder = tf.keras.layers.TextVectorization(\n",
        "    max_tokens=VOCAB_SIZE,\n",
        "    output_mode='int',\n",
        "    output_sequence_length=VOCAB_SIZE)\n",
        "encoder.adapt(train_dataset.map(lambda text, label: text))"
      ],
      "metadata": {
        "id": "TtfcKfzk3dNH"
      },
      "execution_count": null,
      "outputs": []
    },
    {
      "cell_type": "code",
      "source": [
        "vocab = np.array(encoder.get_vocabulary())\n",
        "vocab[:10]"
      ],
      "metadata": {
        "colab": {
          "base_uri": "https://localhost:8080/"
        },
        "id": "VJ0UC6xk7MiJ",
        "outputId": "2ee48b38-478b-48fe-9958-3547b9746512"
      },
      "execution_count": null,
      "outputs": [
        {
          "output_type": "execute_result",
          "data": {
            "text/plain": [
              "array(['', '[UNK]', 'i', 'to', 'you', 'a', 'the', 'u', 'and', 'in'],\n",
              "      dtype='<U15')"
            ]
          },
          "metadata": {},
          "execution_count": 18
        }
      ]
    },
    {
      "cell_type": "code",
      "source": [
        "model = tf.keras.Sequential()\n",
        "model.add(encoder)\n",
        "model.add(\n",
        "    tf.keras.layers.Embedding(\n",
        "        input_dim=len(encoder.get_vocabulary()),\n",
        "        output_dim=64,\n",
        "        # Use masking to handle the variable sequence lengths\n",
        "        mask_zero=True)\n",
        ")\n",
        "model.add(tf.keras.layers.Bidirectional(tf.keras.layers.LSTM(64)))\n",
        "model.add(tf.keras.layers.Dense(64, activation='relu'))\n",
        "model.add(tf.keras.layers.Dropout(0.2))\n",
        "model.add(tf.keras.layers.Dense(1))"
      ],
      "metadata": {
        "id": "OkiSeSO2QUBM"
      },
      "execution_count": null,
      "outputs": []
    },
    {
      "cell_type": "code",
      "source": [
        "# To know if everything works as intended\n",
        "# predict on a sample text without padding.\n",
        "\n",
        "sample_text = ('The movie was cool. The animation and the graphics '\n",
        "               'were out of this world. I would recommend this movie.')\n",
        "predictions = model.predict(np.array([sample_text]))\n",
        "print(predictions[0])"
      ],
      "metadata": {
        "colab": {
          "base_uri": "https://localhost:8080/"
        },
        "id": "fmDW4RldXyPn",
        "outputId": "ae8b35a9-2322-4972-e025-d4497079733f"
      },
      "execution_count": null,
      "outputs": [
        {
          "output_type": "stream",
          "name": "stdout",
          "text": [
            "1/1 [==============================] - 15s 15s/step\n",
            "[0.01635737]\n"
          ]
        }
      ]
    },
    {
      "cell_type": "code",
      "source": [
        "# predict on a sample text with padding\n",
        "\n",
        "padding = \"the \" * 2000\n",
        "predictions = model.predict(np.array([sample_text, padding]))\n",
        "print(predictions[0])"
      ],
      "metadata": {
        "colab": {
          "base_uri": "https://localhost:8080/"
        },
        "id": "ryOk-BOOYCil",
        "outputId": "527fe9e1-1a8b-4d75-f362-55604f0f3ca0"
      },
      "execution_count": null,
      "outputs": [
        {
          "output_type": "stream",
          "name": "stdout",
          "text": [
            "1/1 [==============================] - 0s 201ms/step\n",
            "[0.01635737]\n"
          ]
        }
      ]
    },
    {
      "cell_type": "code",
      "source": [
        "# Since we get the same result on the 'prediction', we can move on"
      ],
      "metadata": {
        "id": "SG6Dz0zvYJAM"
      },
      "execution_count": null,
      "outputs": []
    },
    {
      "cell_type": "code",
      "source": [
        "model.compile(\n",
        "    loss=tf.keras.losses.BinaryCrossentropy(from_logits=True),\n",
        "    optimizer=tf.keras.optimizers.Adam(1e-4),\n",
        "    metrics=['accuracy'],\n",
        ")"
      ],
      "metadata": {
        "id": "aZ-P9mSjQ-sm"
      },
      "execution_count": null,
      "outputs": []
    },
    {
      "cell_type": "code",
      "source": [
        "history = model.fit(train_dataset, epochs=10,\n",
        "                    validation_data=test_dataset,\n",
        "                    validation_steps=30)"
      ],
      "metadata": {
        "colab": {
          "base_uri": "https://localhost:8080/"
        },
        "id": "pJWTdXKXYV_r",
        "outputId": "9553907d-d80e-4fcc-d3ee-b867b27a856f"
      },
      "execution_count": null,
      "outputs": [
        {
          "output_type": "stream",
          "name": "stdout",
          "text": [
            "Epoch 1/10\n",
            "246/246 [==============================] - 41s 112ms/step - loss: 0.5415 - accuracy: 0.8717 - val_loss: 0.3975 - val_accuracy: 0.8583\n",
            "Epoch 2/10\n",
            "246/246 [==============================] - 18s 72ms/step - loss: 0.2206 - accuracy: 0.9024 - val_loss: 0.1096 - val_accuracy: 0.9750\n",
            "Epoch 3/10\n",
            "246/246 [==============================] - 18s 73ms/step - loss: 0.0913 - accuracy: 0.9771 - val_loss: 0.0748 - val_accuracy: 0.9729\n",
            "Epoch 4/10\n",
            "246/246 [==============================] - 15s 60ms/step - loss: 0.0655 - accuracy: 0.9817 - val_loss: 0.0743 - val_accuracy: 0.9812\n",
            "Epoch 5/10\n",
            "246/246 [==============================] - 15s 61ms/step - loss: 0.0527 - accuracy: 0.9850 - val_loss: 0.0697 - val_accuracy: 0.9729\n",
            "Epoch 6/10\n",
            "246/246 [==============================] - 16s 64ms/step - loss: 0.0421 - accuracy: 0.9878 - val_loss: 0.0694 - val_accuracy: 0.9854\n",
            "Epoch 7/10\n",
            "246/246 [==============================] - 18s 72ms/step - loss: 0.0351 - accuracy: 0.9893 - val_loss: 0.0643 - val_accuracy: 0.9833\n",
            "Epoch 8/10\n",
            "246/246 [==============================] - 15s 60ms/step - loss: 0.0295 - accuracy: 0.9914 - val_loss: 0.0683 - val_accuracy: 0.9854\n",
            "Epoch 9/10\n",
            "246/246 [==============================] - 15s 61ms/step - loss: 0.0253 - accuracy: 0.9931 - val_loss: 0.0747 - val_accuracy: 0.9833\n",
            "Epoch 10/10\n",
            "246/246 [==============================] - 15s 61ms/step - loss: 0.0203 - accuracy: 0.9944 - val_loss: 0.0737 - val_accuracy: 0.9833\n"
          ]
        }
      ]
    },
    {
      "cell_type": "code",
      "source": [
        "test_loss, test_acc = model.evaluate(test_dataset)\n",
        "\n",
        "print('Test Loss:', test_loss)\n",
        "print('Test Accuracy:', test_acc)"
      ],
      "metadata": {
        "colab": {
          "base_uri": "https://localhost:8080/"
        },
        "id": "Zcs6XiKeYazz",
        "outputId": "dfee00d9-05be-4c9c-de41-1cfb07587734"
      },
      "execution_count": null,
      "outputs": [
        {
          "output_type": "stream",
          "name": "stdout",
          "text": [
            "87/87 [==============================] - 1s 7ms/step - loss: 0.0554 - accuracy: 0.9864\n",
            "Test Loss: 0.05541371926665306\n",
            "Test Accuracy: 0.9863505959510803\n"
          ]
        }
      ]
    },
    {
      "cell_type": "code",
      "source": [
        "def plot_graphs(history, metric):\n",
        "  plt.plot(history.history[metric])\n",
        "  plt.plot(history.history['val_'+metric], '')\n",
        "  plt.xlabel(\"Epochs\")\n",
        "  plt.ylabel(metric)\n",
        "  plt.legend([metric, 'val_'+metric])"
      ],
      "metadata": {
        "id": "vfE2vM_HsZ_a"
      },
      "execution_count": null,
      "outputs": []
    },
    {
      "cell_type": "code",
      "source": [
        "plt.figure(figsize=(16, 8))\n",
        "plt.subplot(1, 2, 1)\n",
        "plot_graphs(history, 'accuracy')\n",
        "plt.ylim(None, 1)\n",
        "plt.subplot(1, 2, 2)\n",
        "plot_graphs(history, 'loss')\n",
        "plt.ylim(0, None)"
      ],
      "metadata": {
        "colab": {
          "base_uri": "https://localhost:8080/",
          "height": 644
        },
        "id": "xm4ikYFwYdud",
        "outputId": "e6f3fed2-2a7b-4a54-da73-5e936b96a87c"
      },
      "execution_count": null,
      "outputs": [
        {
          "output_type": "execute_result",
          "data": {
            "text/plain": [
              "(0.0, 0.5675747647881508)"
            ]
          },
          "metadata": {},
          "execution_count": 27
        },
        {
          "output_type": "display_data",
          "data": {
            "text/plain": [
              "<Figure size 1600x800 with 2 Axes>"
            ],
            "image/png": "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\n"
          },
          "metadata": {}
        }
      ]
    },
    {
      "cell_type": "code",
      "execution_count": null,
      "metadata": {
        "id": "J9tD9yACG6M9",
        "colab": {
          "base_uri": "https://localhost:8080/"
        },
        "outputId": "42af7702-35c8-4732-a684-cd1ff828e5ba"
      },
      "outputs": [
        {
          "output_type": "stream",
          "name": "stdout",
          "text": [
            "1/1 [==============================] - 0s 122ms/step\n",
            "[-6.7843747, 'ham']\n"
          ]
        }
      ],
      "source": [
        "# function to predict messages based on model\n",
        "# (should return list containing prediction and label, ex. [0.008318834938108921, 'ham'])\n",
        "def predict_message(pred_text):\n",
        "  aux = model.predict([pred_text])\n",
        "  prediction = aux[0][0]\n",
        "  return [prediction, \"ham\" if prediction <0.5 else \"spam\"]\n",
        "\n",
        "pred_text = \"how are you doing today?\"\n",
        "\n",
        "prediction = predict_message(pred_text)\n",
        "print(prediction)"
      ]
    },
    {
      "cell_type": "code",
      "execution_count": null,
      "metadata": {
        "id": "Dxotov85SjsC",
        "colab": {
          "base_uri": "https://localhost:8080/"
        },
        "outputId": "f2b95a44-5de8-4f14-b6d2-d1f00097a99b"
      },
      "outputs": [
        {
          "output_type": "stream",
          "name": "stdout",
          "text": [
            "1/1 [==============================] - 0s 139ms/step\n",
            "1/1 [==============================] - 0s 203ms/step\n",
            "1/1 [==============================] - 0s 163ms/step\n",
            "1/1 [==============================] - 0s 54ms/step\n",
            "1/1 [==============================] - 0s 56ms/step\n",
            "1/1 [==============================] - 0s 51ms/step\n",
            "1/1 [==============================] - 0s 54ms/step\n",
            "You passed the challenge. Great job!\n"
          ]
        }
      ],
      "source": [
        "# Run this cell to test your function and model. Do not modify contents.\n",
        "def test_predictions():\n",
        "  test_messages = [\"how are you doing today\",\n",
        "                   \"sale today! to stop texts call 98912460324\",\n",
        "                   \"i dont want to go. can we try it a different day? available sat\",\n",
        "                   \"our new mobile video service is live. just install on your phone to start watching.\",\n",
        "                   \"you have won £1000 cash! call to claim your prize.\",\n",
        "                   \"i'll bring it tomorrow. don't forget the milk.\",\n",
        "                   \"wow, is your arm alright. that happened to me one time too\"\n",
        "                  ]\n",
        "\n",
        "  test_answers = [\"ham\", \"spam\", \"ham\", \"spam\", \"spam\", \"ham\", \"ham\"]\n",
        "  passed = True\n",
        "\n",
        "  for msg, ans in zip(test_messages, test_answers):\n",
        "    prediction = predict_message(msg)\n",
        "    if prediction[1] != ans:\n",
        "      passed = False\n",
        "\n",
        "  if passed:\n",
        "    print(\"You passed the challenge. Great job!\")\n",
        "  else:\n",
        "    print(\"You haven't passed yet. Keep trying.\")\n",
        "\n",
        "test_predictions()\n"
      ]
    }
  ],
  "metadata": {
    "colab": {
      "provenance": [],
      "toc_visible": true,
      "gpuType": "T4"
    },
    "kernelspec": {
      "display_name": "Python 3",
      "name": "python3"
    },
    "language_info": {},
    "accelerator": "GPU"
  },
  "nbformat": 4,
  "nbformat_minor": 0
}
